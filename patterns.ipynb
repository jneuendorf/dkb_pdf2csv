{
 "cells": [
  {
   "cell_type": "code",
   "execution_count": 1,
   "metadata": {},
   "outputs": [],
   "source": [
    "from datetime import datetime\n",
    "from pprint import pprint\n",
    "\n",
    "from iterable_orm import QuerySet\n",
    "\n",
    "from data_analysis.pattern_finders.frequency import FrequencyPatternFinder\n",
    "from data_vis.models import Series, DataPoint"
   ]
  },
  {
   "cell_type": "code",
   "execution_count": 2,
   "metadata": {},
   "outputs": [],
   "source": [
    "data_points = QuerySet([\n",
    "    DataPoint(x=datetime(2020, 1, 1), dy=100),\n",
    "    DataPoint(x=datetime(2020, 1, 1), dy=-100),\n",
    "    DataPoint(x=datetime(2020, 1, 4), dy=2),\n",
    "    DataPoint(x=datetime(2020, 2, 1), dy=95),\n",
    "    DataPoint(x=datetime(2020, 2, 5), dy=200),\n",
    "    # DataPoint(x=datetime(2020, 3, 1), dy=105),\n",
    "    DataPoint(x=datetime(2020, 4, 4), dy=-4),\n",
    "])"
   ]
  },
  {
   "cell_type": "code",
   "execution_count": 3,
   "metadata": {},
   "outputs": [],
   "source": [
    "def f():\n",
    "    series = Series.objects.first()\n",
    "    finder = FrequencyPatternFinder(intervals=[dict(weeks=1)])\n",
    "    subsets = finder.find(series.data_points.filter(x__lte='2020-04-01'))\n",
    "    pprint(subsets)"
   ]
  },
  {
   "cell_type": "code",
   "execution_count": 5,
   "metadata": {},
   "outputs": [],
   "source": [
    "# from django.conf import settings\n",
    "\n",
    "\n",
    "# settings.configure(DEBUG=True)\n",
    "import os\n",
    "\n",
    "\n",
    "os.environ[\"DJANGO_ALLOW_ASYNC_UNSAFE\"] = \"true\"\n",
    "\n",
    "\n",
    "finder = FrequencyPatternFinder(\n",
    "    intervals=[dict(months=1)],\n",
    "    tolerance_y=10,\n",
    ")\n",
    "# series = Series.objects.first()\n",
    "# patterns = finder.find(series.data_points.filter(x__lte='2020-03-01'))\n",
    "\n",
    "# patterns = finder.find(data_points)\n",
    "intervals = finder.options.intervals\n",
    "precision = finder.options.precision\n",
    "# subsets = finder.select_subsets(data_points)\n",
    "\n",
    "# series = Series.objects.first()\n",
    "# data_points_queryset = series.data_points.filter(x__lte='2020-03-01')\n",
    "data_points_queryset = data_points"
   ]
  },
  {
   "cell_type": "code",
   "execution_count": 6,
   "metadata": {
    "scrolled": false
   },
   "outputs": [
    {
     "name": "stdout",
     "output_type": "stream",
     "text": [
      "[{datetime.datetime(2020, 1, 1, 0, 0): [<DataPoint: <DataPoint 2020-01-01 00:00:00 100 >>,\n",
      "                                        <DataPoint: <DataPoint 2020-01-01 00:00:00 -100 >>],\n",
      "  datetime.datetime(2020, 2, 1, 0, 0): [<DataPoint: <DataPoint 2020-02-01 00:00:00 95 >>]},\n",
      " {datetime.datetime(2020, 1, 4, 0, 0): [<DataPoint: <DataPoint 2020-01-04 00:00:00 2 >>],\n",
      "  datetime.datetime(2020, 4, 4, 0, 0): [<DataPoint: <DataPoint 2020-04-04 00:00:00 -4 >>]},\n",
      " {datetime.datetime(2020, 2, 5, 0, 0): [<DataPoint: <DataPoint 2020-02-05 00:00:00 200 >>]}]\n",
      "[(<DataPoint: <DataPoint 2020-01-01 00:00:00 100 >>,\n",
      "  <DataPoint: <DataPoint 2020-02-01 00:00:00 95 >>),\n",
      " (<DataPoint: <DataPoint 2020-01-01 00:00:00 -100 >>,\n",
      "  <DataPoint: <DataPoint 2020-02-01 00:00:00 95 >>),\n",
      " (<DataPoint: <DataPoint 2020-01-04 00:00:00 2 >>,\n",
      "  <DataPoint: <DataPoint 2020-04-04 00:00:00 -4 >>)]\n"
     ]
    }
   ],
   "source": [
    "import itertools\n",
    "from dateutil.relativedelta import relativedelta\n",
    "\n",
    "\n",
    "# Iterate starting points that give us (potentially) different subsets.\n",
    "# Starting points are those points lie within the interval\n",
    "# [ point0.x, point0.x + cycle_length )\n",
    "ordered_points = data_points_queryset.order_by('x')\n",
    "first_point = ordered_points.first()\n",
    "starting_time = first_point.x\n",
    "\n",
    "deltas = [relativedelta(**interval) for interval in intervals]\n",
    "abstract_cycle_length = sum(deltas, relativedelta())\n",
    "# Note: Without applying the delta to a datetime the number of e.g.\n",
    "# days can't be determined because months have different amounts of\n",
    "# days, i.e. relativedelta(months=1).days == 0.\n",
    "# But when the delta is added to a concrete datetime, the number of\n",
    "# days becomes clear, e.g.\n",
    "# (\n",
    "#   date(2020,2,1) + relativedelta(months=2) - date(2020,2,1)\n",
    "# ).days == 60\n",
    "# because the February 2020 has 29 days.\n",
    "applied_cycle_length = (\n",
    "    (starting_time + abstract_cycle_length)\n",
    "    - starting_time\n",
    ")\n",
    "num_atomic_periods = getattr(applied_cycle_length, precision)\n",
    "# print('num_atomic_periods', num_atomic_periods)\n",
    "atomic_delta = relativedelta(**{precision: 1})\n",
    "subsets = []\n",
    "\n",
    "for i in range(num_atomic_periods):\n",
    "    delta_iterator = itertools.cycle(deltas)\n",
    "    # subset = []\n",
    "    subset = {}\n",
    "    time_cursor = starting_time + (i * atomic_delta)\n",
    "\n",
    "    while True:\n",
    "        # subset += list(data_points_queryset.filter(x=time_cursor))\n",
    "        # subset += utils.data.grouped_points(\n",
    "        #     data_points_queryset.filter(x=time_cursor),\n",
    "        #     key=lambda p: p.x,\n",
    "        # )\n",
    "        points_at_x = data_points_queryset.filter(x=time_cursor)\n",
    "        if points_at_x:\n",
    "            subset[time_cursor] = list(points_at_x)\n",
    "        if not data_points_queryset.filter(x__gte=time_cursor):\n",
    "            break\n",
    "        time_cursor += next(delta_iterator)\n",
    "\n",
    "    if subset:\n",
    "        subsets.append(subset)\n",
    "\n",
    "pprint(subsets)\n",
    "\n",
    "# At this point, a subset can contain multiple points with the same\n",
    "# datetime. But we don't want to have patterns like that.\n",
    "# For example let's say we have a weekly frequency:\n",
    "# date ||     01-01   ||  01-08  ||  01-15\n",
    "# i    || 0   | 1 | 2 || 3   | 4 || 5   | 6\n",
    "# dy   || 100 | ? | ? || 100 | ? || 100 | 100\n",
    "# Right now, the points at i=[0, 3, 5, 6] would form a subset.\n",
    "# We want exactly 1 point per datetime, which means we will get\n",
    "# multiple subsets instead:\n",
    "# [0, 3, 5] and [0, 3, 6]\n",
    "# Therefore, we create the cartesian product of points for all\n",
    "# datetimes, which gives us all the lines we could draw that only hit\n",
    "# one point per datetime:\n",
    "#   list(itertools.product([1,2,3], [4,5], [6,7]))\n",
    "#   [\n",
    "#       (1, 4, 6), (1, 4, 7), (1, 5, 6), (1, 5, 7),\n",
    "#       (2, 4, 6), (2, 4, 7), (2, 5, 6), (2, 5, 7),\n",
    "#       (3, 4, 6), (3, 4, 7), (3, 5, 6), (3, 5, 7)\n",
    "#   ]\n",
    "# import pudb; pudb.set_trace()\n",
    "result = itertools.chain.from_iterable(\n",
    "    itertools.product(*subset.values()) for subset in subsets\n",
    ")\n",
    "# result_list = list(result)\n",
    "# result = []\n",
    "# for subset in subsets:\n",
    "#     datetime_unique_subsets = itertools.product(*subset.values())\n",
    "#     result += [*datetime_unique_subsets]\n",
    "\n",
    "# import pprint; pprint.pprint(result)\n",
    "# return result\n",
    "# pprint(result_list)\n",
    "patterns = [\n",
    "    candidate \n",
    "    for candidate in result \n",
    "    if len(candidate) > 1\n",
    "]\n",
    "pprint(patterns)"
   ]
  },
  {
   "cell_type": "code",
   "execution_count": 7,
   "metadata": {},
   "outputs": [
    {
     "name": "stdout",
     "output_type": "stream",
     "text": [
      "[(<DataPoint: <DataPoint 2020-01-01 00:00:00 100 >>,\n",
      "  <DataPoint: <DataPoint 2020-02-01 00:00:00 95 >>),\n",
      " (<DataPoint: <DataPoint 2020-01-04 00:00:00 2 >>,\n",
      "  <DataPoint: <DataPoint 2020-04-04 00:00:00 -4 >>)]\n"
     ]
    }
   ],
   "source": [
    "def should_use_subset(subset):\n",
    "    if not subset:\n",
    "        return False\n",
    "\n",
    "    tolerance = 6\n",
    "    \n",
    "    return all(\n",
    "        abs(p.dy - q.dy) <= tolerance\n",
    "        for p, q in itertools.combinations(subset, 2)\n",
    "    )\n",
    "    \n",
    "\n",
    "pprint([\n",
    "    subset\n",
    "    for subset in patterns\n",
    "    if should_use_subset(subset)\n",
    "])"
   ]
  },
  {
   "cell_type": "code",
   "execution_count": 8,
   "metadata": {},
   "outputs": [
    {
     "name": "stdout",
     "output_type": "stream",
     "text": [
      "<iterable_orm.query.QuerySet object at 0x1071104c0>\n",
      "[{datetime.datetime(2020, 1, 1, 0, 0): [<DataPoint: <DataPoint 2020-01-01 00:00:00 100 >>,\n",
      "                                        <DataPoint: <DataPoint 2020-01-01 00:00:00 -100 >>],\n",
      "  datetime.datetime(2020, 2, 1, 0, 0): [<DataPoint: <DataPoint 2020-02-01 00:00:00 95 >>]},\n",
      " {datetime.datetime(2020, 1, 4, 0, 0): [<DataPoint: <DataPoint 2020-01-04 00:00:00 2 >>],\n",
      "  datetime.datetime(2020, 4, 4, 0, 0): [<DataPoint: <DataPoint 2020-04-04 00:00:00 -4 >>]},\n",
      " {datetime.datetime(2020, 2, 5, 0, 0): [<DataPoint: <DataPoint 2020-02-05 00:00:00 200 >>]}]\n",
      "<itertools.chain object at 0x107110be0>\n"
     ]
    },
    {
     "data": {
      "text/plain": [
       "[(<DataPoint: <DataPoint 2020-01-01 00:00:00 100 >>,\n",
       "  <DataPoint: <DataPoint 2020-02-01 00:00:00 95 >>),\n",
       " (<DataPoint: <DataPoint 2020-01-04 00:00:00 2 >>,\n",
       "  <DataPoint: <DataPoint 2020-04-04 00:00:00 -4 >>)]"
      ]
     },
     "execution_count": 8,
     "metadata": {},
     "output_type": "execute_result"
    }
   ],
   "source": [
    "from data_analysis.pattern_finders.frequency import FrequencyPatternFinder\n",
    "\n",
    "print(data_points_queryset)\n",
    "finder = FrequencyPatternFinder(\n",
    "    intervals=[dict(months=1)],\n",
    "    tolerance_y=10,\n",
    ")\n",
    "finder.find(data_points_queryset)"
   ]
  }
 ],
 "metadata": {
  "kernelspec": {
   "display_name": "Django Shell-Plus",
   "language": "python",
   "name": "django_extensions"
  },
  "language_info": {
   "codemirror_mode": {
    "name": "ipython",
    "version": 3
   },
   "file_extension": ".py",
   "mimetype": "text/x-python",
   "name": "python",
   "nbconvert_exporter": "python",
   "pygments_lexer": "ipython3",
   "version": "3.8.5"
  }
 },
 "nbformat": 4,
 "nbformat_minor": 4
}
